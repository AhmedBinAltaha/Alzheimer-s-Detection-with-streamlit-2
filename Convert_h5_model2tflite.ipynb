{
  "cells": [
    {
      "cell_type": "markdown",
      "metadata": {
        "id": "1pt-oC9hZzOC"
      },
      "source": [
        "#Convert .h5 to TensorFlow tflite models\n",
        "##to run for any embedded system for microcontroller devices system\n",
        "###By Falahgs\n",
        "###Date:12/08/2021"
      ]
    },
    {
      "cell_type": "code",
      "execution_count": 1,
      "metadata": {
        "id": "MT9y-WXKZVDj"
      },
      "outputs": [],
      "source": [
        "import tensorflow as tf\n",
        "import os"
      ]
    },
    {
      "cell_type": "code",
      "execution_count": 3,
      "metadata": {
        "id": "TOtfmLAVZWIk"
      },
      "outputs": [],
      "source": [
        "# convert keras model to tflite\n",
        "def get_file_size(file_path):\n",
        "    size = os.path.getsize(file_path)\n",
        "    return size\n",
        "\n",
        "def convert_bytes(size, unit=None):\n",
        "    if unit == \"KB\":\n",
        "        return print('File size: ' + str(round(size / 1024, 3)) + ' Kilobytes')\n",
        "    elif unit == \"MB\":\n",
        "        return print('File size: ' + str(round(size / (1024 * 1024), 3)) + ' Megabytes')\n",
        "    else:\n",
        "        return print('File size: ' + str(size) + ' bytes')"
      ]
    },
    {
      "cell_type": "markdown",
      "metadata": {
        "id": "0T-_1UwiaXn6"
      },
      "source": [
        "#upload any .h5 model"
      ]
    },
    {
      "cell_type": "code",
      "execution_count": 5,
      "metadata": {
        "colab": {
          "base_uri": "https://localhost:8080/"
        },
        "id": "5OgDtJn9Zhil",
        "outputId": "d278f627-3454-4fda-90d3-7ad3a0164e51"
      },
      "outputs": [
        {
          "name": "stdout",
          "output_type": "stream",
          "text": [
            "INFO:tensorflow:Assets written to: C:\\Users\\Nile\\AppData\\Local\\Temp\\tmpfk353nbn\\assets\n"
          ]
        },
        {
          "name": "stderr",
          "output_type": "stream",
          "text": [
            "INFO:tensorflow:Assets written to: C:\\Users\\Nile\\AppData\\Local\\Temp\\tmpfk353nbn\\assets\n"
          ]
        },
        {
          "name": "stdout",
          "output_type": "stream",
          "text": [
            "File size: 69806.934 Kilobytes\n",
            "INFO:tensorflow:Assets written to: C:\\Users\\Nile\\AppData\\Local\\Temp\\tmpb3hhv3e5\\assets\n"
          ]
        },
        {
          "name": "stderr",
          "output_type": "stream",
          "text": [
            "INFO:tensorflow:Assets written to: C:\\Users\\Nile\\AppData\\Local\\Temp\\tmpb3hhv3e5\\assets\n"
          ]
        }
      ],
      "source": [
        "from keras.models import load_model\n",
        "model = load_model(r\"C:\\Users\\Nile\\OneDrive - Benha University (Faculty Of Computers & Information Technolgy)\\Desktop\\deploy\\model_VGG16.h5\")\n",
        "\n",
        "TF_LITE_MODEL_FILE_NAME = \"tflite_model.tflite\"\n",
        "tf_lite_converter = tf.lite.TFLiteConverter.from_keras_model(model)\n",
        "tflite_model = tf_lite_converter.convert()\n",
        "tflite_model_name = TF_LITE_MODEL_FILE_NAME\n",
        "open(tflite_model_name, \"wb\").write(tflite_model)\n",
        "convert_bytes(get_file_size(TF_LITE_MODEL_FILE_NAME), \"KB\")\n",
        "\n",
        "# Convert the model.\n",
        "converter = tf.lite.TFLiteConverter.from_keras_model(model)\n",
        "tflite_model = converter.convert()\n",
        "# or using another method\n",
        "\n",
        "# Save the model.\n",
        "with open('tflite_model_another.tflite', 'wb') as f:\n",
        "  f.write(tflite_model)"
      ]
    },
    {
      "cell_type": "code",
      "execution_count": 6,
      "metadata": {
        "colab": {
          "base_uri": "https://localhost:8080/"
        },
        "id": "0IMeXQ4lZkWF",
        "outputId": "2a5eda5d-7019-461e-b061-cfbc91c260f7"
      },
      "outputs": [
        {
          "name": "stdout",
          "output_type": "stream",
          "text": [
            "Input Shape: [  1 224 224   3]\n",
            "Input Type: <class 'numpy.float32'>\n",
            "Output Shape: [1 4]\n",
            "Output Type: <class 'numpy.float32'>\n"
          ]
        }
      ],
      "source": [
        "interpreter = tf.lite.Interpreter(model_path = TF_LITE_MODEL_FILE_NAME)\n",
        "input_details = interpreter.get_input_details()\n",
        "output_details = interpreter.get_output_details()\n",
        "print(\"Input Shape:\", input_details[0]['shape'])\n",
        "print(\"Input Type:\", input_details[0]['dtype'])\n",
        "print(\"Output Shape:\", output_details[0]['shape'])\n",
        "print(\"Output Type:\", output_details[0]['dtype'])\n"
      ]
    },
    {
      "cell_type": "code",
      "execution_count": null,
      "metadata": {},
      "outputs": [],
      "source": []
    }
  ],
  "metadata": {
    "colab": {
      "provenance": []
    },
    "kernelspec": {
      "display_name": "Python 3",
      "name": "python3"
    },
    "language_info": {
      "codemirror_mode": {
        "name": "ipython",
        "version": 3
      },
      "file_extension": ".py",
      "mimetype": "text/x-python",
      "name": "python",
      "nbconvert_exporter": "python",
      "pygments_lexer": "ipython3",
      "version": "3.11.4"
    }
  },
  "nbformat": 4,
  "nbformat_minor": 0
}
